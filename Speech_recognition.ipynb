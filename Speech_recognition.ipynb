{
 "cells": [
  {
   "cell_type": "markdown",
   "metadata": {},
   "source": [
    "# Speech Recognition 🔊 💬\n",
    "\n",
    "**Input 🗣️**\n",
    "The person will speak and it will be converted\n",
    "\n",
    "**output✍️**\n",
    "The words spoken will be converted to a list of words with the correct order"
   ]
  },
  {
   "cell_type": "code",
   "execution_count": 1,
   "metadata": {},
   "outputs": [
    {
     "name": "stdout",
     "output_type": "stream",
     "text": [
      "Collecting SpeechRecognition\n",
      "  Downloading SpeechRecognition-3.10.0-py2.py3-none-any.whl (32.8 MB)\n",
      "     ---------------------------------------- 32.8/32.8 MB 2.9 MB/s eta 0:00:00\n",
      "Requirement already satisfied: requests>=2.26.0 in d:\\python\\python38\\lib\\site-packages (from SpeechRecognition) (2.27.1)\n",
      "Requirement already satisfied: charset-normalizer~=2.0.0 in d:\\python\\python38\\lib\\site-packages (from requests>=2.26.0->SpeechRecognition) (2.0.12)\n",
      "Requirement already satisfied: idna<4,>=2.5 in d:\\python\\python38\\lib\\site-packages (from requests>=2.26.0->SpeechRecognition) (3.3)\n",
      "Requirement already satisfied: certifi>=2017.4.17 in d:\\python\\python38\\lib\\site-packages (from requests>=2.26.0->SpeechRecognition) (2022.5.18.1)\n",
      "Requirement already satisfied: urllib3<1.27,>=1.21.1 in d:\\python\\python38\\lib\\site-packages (from requests>=2.26.0->SpeechRecognition) (1.26.16)\n",
      "Installing collected packages: SpeechRecognition\n",
      "Successfully installed SpeechRecognition-3.10.0\n"
     ]
    },
    {
     "name": "stderr",
     "output_type": "stream",
     "text": [
      "WARNING: Ignoring invalid distribution -rotobuf (d:\\python\\python38\\lib\\site-packages)\n",
      "WARNING: Ignoring invalid distribution -ip (d:\\python\\python38\\lib\\site-packages)\n",
      "WARNING: Ignoring invalid distribution - (d:\\python\\python38\\lib\\site-packages)\n",
      "WARNING: Ignoring invalid distribution -rotobuf (d:\\python\\python38\\lib\\site-packages)\n",
      "WARNING: Ignoring invalid distribution -ip (d:\\python\\python38\\lib\\site-packages)\n",
      "WARNING: Ignoring invalid distribution - (d:\\python\\python38\\lib\\site-packages)\n",
      "WARNING: Ignoring invalid distribution -rotobuf (d:\\python\\python38\\lib\\site-packages)\n",
      "WARNING: Ignoring invalid distribution -ip (d:\\python\\python38\\lib\\site-packages)\n",
      "WARNING: Ignoring invalid distribution - (d:\\python\\python38\\lib\\site-packages)\n",
      "WARNING: Ignoring invalid distribution -rotobuf (d:\\python\\python38\\lib\\site-packages)\n",
      "WARNING: Ignoring invalid distribution -ip (d:\\python\\python38\\lib\\site-packages)\n",
      "WARNING: Ignoring invalid distribution - (d:\\python\\python38\\lib\\site-packages)\n",
      "WARNING: Ignoring invalid distribution -rotobuf (d:\\python\\python38\\lib\\site-packages)\n",
      "WARNING: Ignoring invalid distribution -ip (d:\\python\\python38\\lib\\site-packages)\n",
      "WARNING: Ignoring invalid distribution - (d:\\python\\python38\\lib\\site-packages)\n",
      "WARNING: Ignoring invalid distribution -rotobuf (d:\\python\\python38\\lib\\site-packages)\n",
      "WARNING: Ignoring invalid distribution -ip (d:\\python\\python38\\lib\\site-packages)\n",
      "WARNING: Ignoring invalid distribution - (d:\\python\\python38\\lib\\site-packages)\n",
      "WARNING: Ignoring invalid distribution -rotobuf (d:\\python\\python38\\lib\\site-packages)\n",
      "WARNING: Ignoring invalid distribution -ip (d:\\python\\python38\\lib\\site-packages)\n",
      "WARNING: Ignoring invalid distribution - (d:\\python\\python38\\lib\\site-packages)\n",
      "\n",
      "[notice] A new release of pip available: 22.3.1 -> 23.2.1\n",
      "[notice] To update, run: python.exe -m pip install --upgrade pip\n"
     ]
    }
   ],
   "source": [
    "#!pip install SpeechRecognition"
   ]
  },
  {
   "cell_type": "code",
   "execution_count": null,
   "metadata": {},
   "outputs": [],
   "source": [
    "#import library\n",
    "import speech_recognition as sr\n",
    "\n",
    "# Initialize recognizer class (for recognizing the speech)\n",
    "r = sr.Recognizer()\n",
    "\n",
    "# Reading Audio file as source\n",
    "# listening the audio file and store in audio_text variable\n",
    "\n",
    "with sr.AudioFile('I-dont-know.wav') as source:\n",
    "    \n",
    "    audio_text = r.listen(source)\n",
    "    \n",
    "# recoginize_() method will throw a request error if the API is unreachable, hence using exception handling\n",
    "    try:\n",
    "        \n",
    "        # using google speech recognition\n",
    "        text = r.recognize_google(audio_text)\n",
    "        print('Converting audio transcripts into text ...')\n",
    "        print(text)\n",
    "     \n",
    "    except:\n",
    "         print('Sorry.. run again...')"
   ]
  },
  {
   "cell_type": "code",
   "execution_count": null,
   "metadata": {},
   "outputs": [],
   "source": [
    "def record_sound():\n",
    "    "
   ]
  },
  {
   "cell_type": "code",
   "execution_count": null,
   "metadata": {},
   "outputs": [],
   "source": [
    "def speech_to_list():\n",
    "    input_text = ()"
   ]
  }
 ],
 "metadata": {
  "kernelspec": {
   "display_name": "Python 3",
   "language": "python",
   "name": "python3"
  },
  "language_info": {
   "codemirror_mode": {
    "name": "ipython",
    "version": 3
   },
   "file_extension": ".py",
   "mimetype": "text/x-python",
   "name": "python",
   "nbconvert_exporter": "python",
   "pygments_lexer": "ipython3",
   "version": "3.8.7"
  },
  "orig_nbformat": 4
 },
 "nbformat": 4,
 "nbformat_minor": 2
}
