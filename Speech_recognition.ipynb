{
 "cells": [
  {
   "cell_type": "markdown",
   "metadata": {},
   "source": [
    "# Speech Recognition 🔊 💬\n",
    "\n",
    "**Input 🗣️**\n",
    "The person will speak and it will be converted\n",
    "\n",
    "**output✍️**\n",
    "The words spoken will be converted to a list of words with the correct order"
   ]
  },
  {
   "cell_type": "code",
   "execution_count": 2,
   "metadata": {},
   "outputs": [
    {
     "name": "stdout",
     "output_type": "stream",
     "text": [
      "Requirement already satisfied: SpeechRecognition in d:\\python\\python38\\lib\\site-packages (3.10.0)\n",
      "Requirement already satisfied: requests>=2.26.0 in d:\\python\\python38\\lib\\site-packages (from SpeechRecognition) (2.27.1)\n",
      "Requirement already satisfied: idna<4,>=2.5 in d:\\python\\python38\\lib\\site-packages (from requests>=2.26.0->SpeechRecognition) (3.3)\n",
      "Requirement already satisfied: urllib3<1.27,>=1.21.1 in d:\\python\\python38\\lib\\site-packages (from requests>=2.26.0->SpeechRecognition) (1.26.16)\n",
      "Requirement already satisfied: certifi>=2017.4.17 in d:\\python\\python38\\lib\\site-packages (from requests>=2.26.0->SpeechRecognition) (2022.5.18.1)\n",
      "Requirement already satisfied: charset-normalizer~=2.0.0 in d:\\python\\python38\\lib\\site-packages (from requests>=2.26.0->SpeechRecognition) (2.0.12)\n"
     ]
    },
    {
     "name": "stderr",
     "output_type": "stream",
     "text": [
      "WARNING: Ignoring invalid distribution -rotobuf (d:\\python\\python38\\lib\\site-packages)\n",
      "WARNING: Ignoring invalid distribution -ip (d:\\python\\python38\\lib\\site-packages)\n",
      "WARNING: Ignoring invalid distribution - (d:\\python\\python38\\lib\\site-packages)\n",
      "WARNING: Ignoring invalid distribution -rotobuf (d:\\python\\python38\\lib\\site-packages)\n",
      "WARNING: Ignoring invalid distribution -ip (d:\\python\\python38\\lib\\site-packages)\n",
      "WARNING: Ignoring invalid distribution - (d:\\python\\python38\\lib\\site-packages)\n",
      "WARNING: Ignoring invalid distribution -rotobuf (d:\\python\\python38\\lib\\site-packages)\n",
      "WARNING: Ignoring invalid distribution -ip (d:\\python\\python38\\lib\\site-packages)\n",
      "WARNING: Ignoring invalid distribution - (d:\\python\\python38\\lib\\site-packages)\n",
      "WARNING: Ignoring invalid distribution -rotobuf (d:\\python\\python38\\lib\\site-packages)\n",
      "WARNING: Ignoring invalid distribution -ip (d:\\python\\python38\\lib\\site-packages)\n",
      "WARNING: Ignoring invalid distribution - (d:\\python\\python38\\lib\\site-packages)\n",
      "WARNING: Ignoring invalid distribution -rotobuf (d:\\python\\python38\\lib\\site-packages)\n",
      "WARNING: Ignoring invalid distribution -ip (d:\\python\\python38\\lib\\site-packages)\n",
      "WARNING: Ignoring invalid distribution - (d:\\python\\python38\\lib\\site-packages)\n",
      "WARNING: Ignoring invalid distribution -rotobuf (d:\\python\\python38\\lib\\site-packages)\n",
      "WARNING: Ignoring invalid distribution -ip (d:\\python\\python38\\lib\\site-packages)\n",
      "WARNING: Ignoring invalid distribution - (d:\\python\\python38\\lib\\site-packages)\n",
      "\n",
      "[notice] A new release of pip available: 22.3.1 -> 23.2.1\n",
      "[notice] To update, run: python.exe -m pip install --upgrade pip\n"
     ]
    },
    {
     "name": "stdout",
     "output_type": "stream",
     "text": [
      "Collecting PyAudio\n",
      "  Downloading PyAudio-0.2.13-cp38-cp38-win_amd64.whl (164 kB)\n",
      "     ------------------------------------ 164.1/164.1 kB 115.7 kB/s eta 0:00:00\n",
      "Installing collected packages: PyAudio\n",
      "Successfully installed PyAudio-0.2.13\n"
     ]
    },
    {
     "name": "stderr",
     "output_type": "stream",
     "text": [
      "WARNING: Ignoring invalid distribution -rotobuf (d:\\python\\python38\\lib\\site-packages)\n",
      "WARNING: Ignoring invalid distribution -ip (d:\\python\\python38\\lib\\site-packages)\n",
      "WARNING: Ignoring invalid distribution - (d:\\python\\python38\\lib\\site-packages)\n",
      "WARNING: Ignoring invalid distribution -rotobuf (d:\\python\\python38\\lib\\site-packages)\n",
      "WARNING: Ignoring invalid distribution -ip (d:\\python\\python38\\lib\\site-packages)\n",
      "WARNING: Ignoring invalid distribution - (d:\\python\\python38\\lib\\site-packages)\n",
      "WARNING: Ignoring invalid distribution -rotobuf (d:\\python\\python38\\lib\\site-packages)\n",
      "WARNING: Ignoring invalid distribution -ip (d:\\python\\python38\\lib\\site-packages)\n",
      "WARNING: Ignoring invalid distribution - (d:\\python\\python38\\lib\\site-packages)\n",
      "WARNING: Ignoring invalid distribution -rotobuf (d:\\python\\python38\\lib\\site-packages)\n",
      "WARNING: Ignoring invalid distribution -ip (d:\\python\\python38\\lib\\site-packages)\n",
      "WARNING: Ignoring invalid distribution - (d:\\python\\python38\\lib\\site-packages)\n",
      "WARNING: Ignoring invalid distribution -rotobuf (d:\\python\\python38\\lib\\site-packages)\n",
      "WARNING: Ignoring invalid distribution -ip (d:\\python\\python38\\lib\\site-packages)\n",
      "WARNING: Ignoring invalid distribution - (d:\\python\\python38\\lib\\site-packages)\n",
      "WARNING: Ignoring invalid distribution -rotobuf (d:\\python\\python38\\lib\\site-packages)\n",
      "WARNING: Ignoring invalid distribution -ip (d:\\python\\python38\\lib\\site-packages)\n",
      "WARNING: Ignoring invalid distribution - (d:\\python\\python38\\lib\\site-packages)\n",
      "WARNING: Ignoring invalid distribution -rotobuf (d:\\python\\python38\\lib\\site-packages)\n",
      "WARNING: Ignoring invalid distribution -ip (d:\\python\\python38\\lib\\site-packages)\n",
      "WARNING: Ignoring invalid distribution - (d:\\python\\python38\\lib\\site-packages)\n",
      "\n",
      "[notice] A new release of pip available: 22.3.1 -> 23.2.1\n",
      "[notice] To update, run: python.exe -m pip install --upgrade pip\n"
     ]
    },
    {
     "name": "stdout",
     "output_type": "stream",
     "text": [
      "Collecting Wave\n",
      "  Downloading Wave-0.0.2.zip (38 kB)\n",
      "  Preparing metadata (setup.py): started\n",
      "  Preparing metadata (setup.py): finished with status 'done'\n",
      "Building wheels for collected packages: Wave\n",
      "  Building wheel for Wave (setup.py): started\n",
      "  Building wheel for Wave (setup.py): finished with status 'done'\n",
      "  Created wheel for Wave: filename=Wave-0.0.2-py3-none-any.whl size=1257 sha256=6ddfad811c8461db5f13b81c17104073b1329d1e4465338ecb2792919b5aae3e\n",
      "  Stored in directory: c:\\users\\mariam barakat\\appdata\\local\\pip\\cache\\wheels\\f5\\5d\\7a\\5012b75aac1622522d50d1b6f64471a2a3cb31c07ec60364f8\n",
      "Successfully built Wave\n",
      "Installing collected packages: Wave\n",
      "Successfully installed Wave-0.0.2\n"
     ]
    },
    {
     "name": "stderr",
     "output_type": "stream",
     "text": [
      "WARNING: Ignoring invalid distribution -rotobuf (d:\\python\\python38\\lib\\site-packages)\n",
      "WARNING: Ignoring invalid distribution -ip (d:\\python\\python38\\lib\\site-packages)\n",
      "WARNING: Ignoring invalid distribution - (d:\\python\\python38\\lib\\site-packages)\n",
      "WARNING: Ignoring invalid distribution -rotobuf (d:\\python\\python38\\lib\\site-packages)\n",
      "WARNING: Ignoring invalid distribution -ip (d:\\python\\python38\\lib\\site-packages)\n",
      "WARNING: Ignoring invalid distribution - (d:\\python\\python38\\lib\\site-packages)\n",
      "WARNING: Ignoring invalid distribution -rotobuf (d:\\python\\python38\\lib\\site-packages)\n",
      "WARNING: Ignoring invalid distribution -ip (d:\\python\\python38\\lib\\site-packages)\n",
      "WARNING: Ignoring invalid distribution - (d:\\python\\python38\\lib\\site-packages)\n",
      "WARNING: Ignoring invalid distribution -rotobuf (d:\\python\\python38\\lib\\site-packages)\n",
      "WARNING: Ignoring invalid distribution -ip (d:\\python\\python38\\lib\\site-packages)\n",
      "WARNING: Ignoring invalid distribution - (d:\\python\\python38\\lib\\site-packages)\n",
      "WARNING: Ignoring invalid distribution -rotobuf (d:\\python\\python38\\lib\\site-packages)\n",
      "WARNING: Ignoring invalid distribution -ip (d:\\python\\python38\\lib\\site-packages)\n",
      "WARNING: Ignoring invalid distribution - (d:\\python\\python38\\lib\\site-packages)\n",
      "WARNING: Ignoring invalid distribution -rotobuf (d:\\python\\python38\\lib\\site-packages)\n",
      "WARNING: Ignoring invalid distribution -ip (d:\\python\\python38\\lib\\site-packages)\n",
      "WARNING: Ignoring invalid distribution - (d:\\python\\python38\\lib\\site-packages)\n",
      "WARNING: Ignoring invalid distribution -rotobuf (d:\\python\\python38\\lib\\site-packages)\n",
      "WARNING: Ignoring invalid distribution -ip (d:\\python\\python38\\lib\\site-packages)\n",
      "WARNING: Ignoring invalid distribution - (d:\\python\\python38\\lib\\site-packages)\n",
      "\n",
      "[notice] A new release of pip available: 22.3.1 -> 23.2.1\n",
      "[notice] To update, run: python.exe -m pip install --upgrade pip\n"
     ]
    },
    {
     "name": "stdout",
     "output_type": "stream",
     "text": [
      "Collecting keyboard\n",
      "  Downloading keyboard-0.13.5-py3-none-any.whl (58 kB)\n",
      "     -------------------------------------- 58.1/58.1 kB 191.4 kB/s eta 0:00:00\n",
      "Installing collected packages: keyboard\n",
      "Successfully installed keyboard-0.13.5\n"
     ]
    },
    {
     "name": "stderr",
     "output_type": "stream",
     "text": [
      "WARNING: Ignoring invalid distribution -rotobuf (d:\\python\\python38\\lib\\site-packages)\n",
      "WARNING: Ignoring invalid distribution -ip (d:\\python\\python38\\lib\\site-packages)\n",
      "WARNING: Ignoring invalid distribution - (d:\\python\\python38\\lib\\site-packages)\n",
      "WARNING: Ignoring invalid distribution -rotobuf (d:\\python\\python38\\lib\\site-packages)\n",
      "WARNING: Ignoring invalid distribution -ip (d:\\python\\python38\\lib\\site-packages)\n",
      "WARNING: Ignoring invalid distribution - (d:\\python\\python38\\lib\\site-packages)\n",
      "WARNING: Ignoring invalid distribution -rotobuf (d:\\python\\python38\\lib\\site-packages)\n",
      "WARNING: Ignoring invalid distribution -ip (d:\\python\\python38\\lib\\site-packages)\n",
      "WARNING: Ignoring invalid distribution - (d:\\python\\python38\\lib\\site-packages)\n",
      "WARNING: Ignoring invalid distribution -rotobuf (d:\\python\\python38\\lib\\site-packages)\n",
      "WARNING: Ignoring invalid distribution -ip (d:\\python\\python38\\lib\\site-packages)\n",
      "WARNING: Ignoring invalid distribution - (d:\\python\\python38\\lib\\site-packages)\n",
      "WARNING: Ignoring invalid distribution -rotobuf (d:\\python\\python38\\lib\\site-packages)\n",
      "WARNING: Ignoring invalid distribution -ip (d:\\python\\python38\\lib\\site-packages)\n",
      "WARNING: Ignoring invalid distribution - (d:\\python\\python38\\lib\\site-packages)\n",
      "WARNING: Ignoring invalid distribution -rotobuf (d:\\python\\python38\\lib\\site-packages)\n",
      "WARNING: Ignoring invalid distribution -ip (d:\\python\\python38\\lib\\site-packages)\n",
      "WARNING: Ignoring invalid distribution - (d:\\python\\python38\\lib\\site-packages)\n",
      "WARNING: Ignoring invalid distribution -rotobuf (d:\\python\\python38\\lib\\site-packages)\n",
      "WARNING: Ignoring invalid distribution -ip (d:\\python\\python38\\lib\\site-packages)\n",
      "WARNING: Ignoring invalid distribution - (d:\\python\\python38\\lib\\site-packages)\n",
      "\n",
      "[notice] A new release of pip available: 22.3.1 -> 23.2.1\n",
      "[notice] To update, run: python.exe -m pip install --upgrade pip\n"
     ]
    }
   ],
   "source": [
    "!pip install SpeechRecognition\n",
    "!pip install PyAudio\n",
    "!pip install Wave\n",
    "!pip install keyboard\n",
    "\n"
   ]
  },
  {
   "cell_type": "code",
   "execution_count": 5,
   "metadata": {},
   "outputs": [],
   "source": [
    "import pyaudio\n",
    "import wave\n",
    "import keyboard\n",
    "import speech_recognition as sr"
   ]
  },
  {
   "cell_type": "code",
   "execution_count": 10,
   "metadata": {},
   "outputs": [],
   "source": [
    "def record_sound():\n",
    "    # Define some parameters\n",
    "    FORMAT = pyaudio.paInt16 # Sample format\n",
    "    CHANNELS = 1 # Number of channels\n",
    "    RATE = 8000 # Sample rate\n",
    "    CHUNK = 1024 # Chunk size\n",
    "    WAVE_FILE = \"output.wav\" # Output file name\n",
    "\n",
    "    # Initialize PyAudio object\n",
    "    p = pyaudio.PyAudio()\n",
    "\n",
    "    # Create a stream object\n",
    "    stream = p.open(format=FORMAT,\n",
    "                    channels=CHANNELS,\n",
    "                    rate=RATE,\n",
    "                    frames_per_buffer=CHUNK,\n",
    "                    input=True)\n",
    "\n",
    "    # Start recording when 's' is pressed\n",
    "    print(\"Press 's' to start recording\")\n",
    "    keyboard.wait('s')\n",
    "    print(\"Recording...\")\n",
    "\n",
    "    # Store the frames as a list\n",
    "    frames = []\n",
    "\n",
    "    # Stop recording when 'q' is pressed\n",
    "    while not keyboard.is_pressed('q'):\n",
    "        # Read data from the stream\n",
    "        data = stream.read(CHUNK)\n",
    "        # Append to the frames list\n",
    "        frames.append(data)\n",
    "\n",
    "    print(\"Recording stopped\")\n",
    "\n",
    "    # Close and terminate the stream\n",
    "    stream.stop_stream()\n",
    "    stream.close()\n",
    "    p.terminate()\n",
    "\n",
    "    # Save the frames as a .wav file\n",
    "    wf = wave.open(WAVE_FILE, 'wb')\n",
    "    wf.setnchannels(CHANNELS)\n",
    "    wf.setsampwidth(p.get_sample_size(FORMAT))\n",
    "    wf.setframerate(RATE)\n",
    "    wf.writeframes(b''.join(frames))\n",
    "    wf.close()\n"
   ]
  },
  {
   "cell_type": "code",
   "execution_count": 17,
   "metadata": {},
   "outputs": [],
   "source": [
    "def speech_to_list(file):\n",
    "    # Initialize recognizer class (for recognizing the speech)\n",
    "    r = sr.Recognizer()\n",
    "\n",
    "    # Reading Audio file as source\n",
    "    # listening the audio file and store in audio_text variable\n",
    "\n",
    "    with sr.AudioFile(file) as source:\n",
    "        \n",
    "        audio_text = r.listen(source)\n",
    "        \n",
    "    # recoginize_() method will throw a request error if the API is unreachable, hence using exception handling\n",
    "        try:\n",
    "            \n",
    "            # using google speech recognition\n",
    "            text = r.recognize_google(audio_text)\n",
    "            print('Converting audio transcripts into text ...')\n",
    "            print(\"You said: \"+ text)\n",
    "        \n",
    "        except:\n",
    "            print('Sorry.. run again...')\n",
    "    \n",
    "    words = []\n",
    "    ten_words = [\"drink\",\"eat\",\"hello\",\"help\",\"love\",\"morning\",\"okay\",\"please\",\"stop\",\"thank you\"]\n",
    "    list_text = text.split(\" \")\n",
    "    for i in list_text:\n",
    "        if i in ten_words:\n",
    "            words.append(i)\n",
    "    return words\n",
    "        \n"
   ]
  },
  {
   "cell_type": "code",
   "execution_count": 18,
   "metadata": {},
   "outputs": [
    {
     "name": "stdout",
     "output_type": "stream",
     "text": [
      "Converting audio transcripts into text ...\n",
      "trial love hate\n"
     ]
    },
    {
     "data": {
      "text/plain": [
       "['love']"
      ]
     },
     "execution_count": 18,
     "metadata": {},
     "output_type": "execute_result"
    }
   ],
   "source": [
    "speech_to_list('output.wav')"
   ]
  },
  {
   "cell_type": "code",
   "execution_count": 19,
   "metadata": {},
   "outputs": [],
   "source": [
    "def speech(file):\n",
    "    record_sound()\n",
    "    output_list = speech_to_list(file)\n",
    "    return output_list\n",
    "    "
   ]
  },
  {
   "cell_type": "code",
   "execution_count": 20,
   "metadata": {},
   "outputs": [
    {
     "name": "stdout",
     "output_type": "stream",
     "text": [
      "Press 's' to start recording\n",
      "Recording...\n",
      "Recording stopped\n",
      "Converting audio transcripts into text ...\n",
      "hello I am Marion sleep drink\n"
     ]
    },
    {
     "data": {
      "text/plain": [
       "['hello', 'drink']"
      ]
     },
     "execution_count": 20,
     "metadata": {},
     "output_type": "execute_result"
    }
   ],
   "source": [
    "speech(\"output.wav\")"
   ]
  }
 ],
 "metadata": {
  "kernelspec": {
   "display_name": "Python 3",
   "language": "python",
   "name": "python3"
  },
  "language_info": {
   "codemirror_mode": {
    "name": "ipython",
    "version": 3
   },
   "file_extension": ".py",
   "mimetype": "text/x-python",
   "name": "python",
   "nbconvert_exporter": "python",
   "pygments_lexer": "ipython3",
   "version": "3.8.7"
  },
  "orig_nbformat": 4
 },
 "nbformat": 4,
 "nbformat_minor": 2
}
