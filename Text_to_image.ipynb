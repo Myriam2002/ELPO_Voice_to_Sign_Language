{
 "cells": [
  {
   "cell_type": "code",
   "execution_count": 9,
   "metadata": {},
   "outputs": [],
   "source": [
    "import random\n",
    "import os\n",
    "import cv2\n",
    "import glob\n",
    "from matplotlib import pyplot as plt\n",
    "from matplotlib import image as mpimg"
   ]
  },
  {
   "cell_type": "code",
   "execution_count": 10,
   "metadata": {},
   "outputs": [
    {
     "name": "stdout",
     "output_type": "stream",
     "text": [
      "['morning', 'please', '.DS_Store', 'love', 'ok', 'thankyou', 'stop', 'eat', 'hello', 'drink', 'help']\n"
     ]
    }
   ],
   "source": [
    "path = \"/Users/salmaahmed/Desktop/ELPO/s2t/ELPO_Voice_to_Sign_Language/images\"\n",
    "files = os.listdir(path)\n",
    "print(files)"
   ]
  },
  {
   "cell_type": "code",
   "execution_count": 12,
   "metadata": {},
   "outputs": [],
   "source": [
    "text = [\"hello\", \"love\"]"
   ]
  },
  {
   "cell_type": "code",
   "execution_count": 15,
   "metadata": {},
   "outputs": [],
   "source": [
    "def imgDisplay(text, path):\n",
    "    for word in text:\n",
    "       # path = \"/Users/salmaahmed/Desktop/ELPO/s2t/ELPO_Voice_to_Sign_Language/images\"\n",
    "        pathword = path + \"/\" + word\n",
    "        files = os.listdir(pathword)\n",
    "        #print(files)\n",
    "        d=random.choice(files)\n",
    "        imgpath = pathword+\"/\"+d\n",
    "\n",
    "        #printing images: \n",
    "        image = mpimg.imread(pathword+\"/\"+d)\n",
    "        plt.imshow(image)\n",
    "        plt.axis('off')\n",
    "        plt.show()\n",
    "\n",
    "        #displaying images with wait second = 3\n",
    "\n",
    "        frame = cv2.imread(imgpath, 0)\n",
    "        cv2.imshow(word, frame)\n",
    "        key = cv2.waitKey(3000)#pauses for 3 seconds before fetching next image\n",
    "        cv2.destroyAllWindows()\n",
    "        \n",
    "        if key == 27:#if ESC is pressed, exit loop\n",
    "            cv2.destroyAllWindows()\n",
    "            break\n",
    "        \n",
    "    #cv2.destroyAllWindows() \n",
    "\n",
    "        "
   ]
  },
  {
   "cell_type": "code",
   "execution_count": 16,
   "metadata": {},
   "outputs": [
    {
     "ename": "",
     "evalue": "",
     "output_type": "error",
     "traceback": [
      "\u001b[1;31mThe Kernel crashed while executing code in the the current cell or a previous cell. Please review the code in the cell(s) to identify a possible cause of the failure. Click <a href='https://aka.ms/vscodeJupyterKernelCrash'>here</a> for more info. View Jupyter <a href='command:jupyter.viewOutput'>log</a> for further details."
     ]
    }
   ],
   "source": [
    "imgDisplay(text, path)"
   ]
  },
  {
   "cell_type": "code",
   "execution_count": null,
   "metadata": {},
   "outputs": [],
   "source": []
  }
 ],
 "metadata": {
  "kernelspec": {
   "display_name": "base",
   "language": "python",
   "name": "python3"
  },
  "language_info": {
   "codemirror_mode": {
    "name": "ipython",
    "version": 3
   },
   "file_extension": ".py",
   "mimetype": "text/x-python",
   "name": "python",
   "nbconvert_exporter": "python",
   "pygments_lexer": "ipython3",
   "version": "3.9.12"
  },
  "orig_nbformat": 4
 },
 "nbformat": 4,
 "nbformat_minor": 2
}
