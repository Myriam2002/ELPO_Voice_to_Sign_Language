{
 "cells": [
  {
   "cell_type": "code",
   "execution_count": 1,
   "metadata": {},
   "outputs": [],
   "source": [
    "import random\n",
    "import os\n",
    "import cv2\n",
    "import glob\n",
    "from matplotlib import pyplot as plt\n",
    "from matplotlib import image as mpimg"
   ]
  },
  {
   "cell_type": "code",
   "execution_count": 4,
   "metadata": {},
   "outputs": [
    {
     "name": "stdout",
     "output_type": "stream",
     "text": [
      "['.DS_Store', 'drink', 'eat', 'hello', 'help', 'love', 'morning', 'ok', 'please', 'thankyou']\n"
     ]
    }
   ],
   "source": [
    "path = \"Images\"\n",
    "files = os.listdir(path)\n",
    "print(files)"
   ]
  },
  {
   "cell_type": "code",
   "execution_count": 5,
   "metadata": {},
   "outputs": [],
   "source": [
    "text = [\"hello\", \"love\"]"
   ]
  },
  {
   "cell_type": "code",
   "execution_count": 14,
   "metadata": {},
   "outputs": [],
   "source": [
    "def imgDisplay(text, path):\n",
    "    for word in text:\n",
    "       # path = \"/Users/salmaahmed/Desktop/ELPO/s2t/ELPO_Voice_to_Sign_Language/images\"\n",
    "        pathword = path + \"/\" + word\n",
    "        files = os.listdir(pathword)\n",
    "        #print(files)\n",
    "        d=random.choice(files)\n",
    "        imgpath = pathword+\"/\"+d\n",
    "\n",
    "        # #printing images: \n",
    "        # image = mpimg.imread(pathword+\"/\"+d)\n",
    "        # plt.imshow(image)\n",
    "        # plt.axis('off')\n",
    "        # plt.show()\n",
    "\n",
    "        #displaying images with wait second = 3\n",
    "\n",
    "        frame = cv2.imread(imgpath, 0)\n",
    "        cv2.imshow(word, frame)\n",
    "        key = cv2.waitKey(3000)#pauses for 3 seconds before fetching next image\n",
    "        cv2.destroyAllWindows()\n",
    "        \n",
    "        if key == 27:#if ESC is pressed, exit loop\n",
    "            cv2.destroyAllWindows()\n",
    "            break\n",
    "        \n",
    "    #cv2.destroyAllWindows() \n",
    "\n",
    "        "
   ]
  },
  {
   "cell_type": "code",
   "execution_count": 15,
   "metadata": {},
   "outputs": [],
   "source": [
    "imgDisplay(text, path)"
   ]
  },
  {
   "cell_type": "code",
   "execution_count": null,
   "metadata": {},
   "outputs": [],
   "source": []
  }
 ],
 "metadata": {
  "kernelspec": {
   "display_name": "base",
   "language": "python",
   "name": "python3"
  },
  "language_info": {
   "codemirror_mode": {
    "name": "ipython",
    "version": 3
   },
   "file_extension": ".py",
   "mimetype": "text/x-python",
   "name": "python",
   "nbconvert_exporter": "python",
   "pygments_lexer": "ipython3",
   "version": "3.8.7"
  },
  "orig_nbformat": 4
 },
 "nbformat": 4,
 "nbformat_minor": 2
}
